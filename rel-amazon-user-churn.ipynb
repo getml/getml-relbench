{
 "cells": [
  {
   "cell_type": "markdown",
   "metadata": {},
   "source": [
    "**License:**\n",
    "\n",
    "All code in this notebook is licensed under the [MIT License](https://mit-license.org/).\n",
    "\n",
    "Text and Images License: All non-code content (text, documentation, and images) is licensed under [CC BY 4.0](https://creativecommons.org/licenses/by/4.0/).\n",
    "\n",
    "**Terms of serivce:**\n",
    "I, Machuntox, hereby acknowledge that I have read, understood, and agree to the [Terms of Service of the getML Community Data Science Challenge](https://github.com/getml/getml-relbench/blob/main/TOS.md)."
   ]
  }
 ],
 "metadata": {
  "language_info": {
   "name": "python"
  }
 },
 "nbformat": 4,
 "nbformat_minor": 2
}
